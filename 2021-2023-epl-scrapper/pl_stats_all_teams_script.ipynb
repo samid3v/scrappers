{
 "cells": [
  {
   "cell_type": "code",
   "execution_count": null,
   "metadata": {},
   "outputs": [],
   "source": [
    "import requests\n",
    "import pandas as pd\n",
    "from bs4 import BeautifulSoup as bs4\n",
    "import pandas as pd\n",
    "import lxml\n",
    "import time"
   ]
  },
  {
   "cell_type": "code",
   "execution_count": null,
   "metadata": {},
   "outputs": [],
   "source": [
    "years = list(range(2023,2020,-1))\n",
    "all_seasons = []\n",
    "standings_url = \"https://fbref.com/en/comps/9/Premier-League-Stats\";\n",
    "for year in years:\n",
    "    data = requests.get(standings_url)\n",
    "    soup = bs4(data.text)\n",
    "    standings_table = soup.select_one(\"table.stats_table\")\n",
    "    st_links = standings_table.find_all(\"a\")\n",
    "    st_hrefs = [link.get(\"href\") for link in st_links]\n",
    "    st_hrefs =[l for l in st_hrefs if '/squads/' in l]\n",
    "    full_links = [f\"https://fbref.com{l}\" for l in st_hrefs]\n",
    "    previous_season = soup.select_one(\"a.prev\").get(\"href\")\n",
    "    standings_url = f\"https://fbref.com{previous_season}\"\n",
    "    for team_url in full_links:\n",
    "        team_name = team_url.split('/')[-1].replace('-Stats', '').replace('-',' ')\n",
    "        team_stats = requests.get(team_url)\n",
    "        team_soup = bs4(team_stats.text)\n",
    "        matches_tb = pd.read_html(team_stats.text, match=\"Scores & Fixtures\")\n",
    "\n",
    "        all_links = team_soup.find_all('a')\n",
    "\n",
    "        all_links = [l.get(\"href\") for l in all_links]\n",
    "\n",
    "        shoot_link = [l for l in all_links if l and 'all_comps/shooting/' in l]\n",
    "        matches_tb=matches_tb[0]\n",
    "        shoot_url = requests.get(f\"https://fbref.com{shoot_link[0]}\");\n",
    "        shoot_tb = pd.read_html(shoot_url.text, match=\"Shooting\")\n",
    "        shoot_tb[0].columns = shoot_tb[0].columns.droplevel()\n",
    "        shoot_tb=shoot_tb[0]\n",
    "        try:\n",
    "            team_data = matches_tb.merge(shoot_tb[[\"Date\", \"Sh\", \"SoT\", \"Dist\", \"FK\", \"PK\", \"PKatt\"]], on=\"Date\")\n",
    "        except ValueError:\n",
    "            continue\n",
    "        \n",
    "        team_data['Seasons'] = year\n",
    "        team_data['Team'] = team_name\n",
    "        all_seasons.append(team_data)\n",
    "        time.sleep(1)"
   ]
  }
 ],
 "metadata": {
  "kernelspec": {
   "display_name": "eplenv",
   "language": "python",
   "name": "python3"
  },
  "language_info": {
   "name": "python",
   "version": "3.10.11"
  },
  "orig_nbformat": 4
 },
 "nbformat": 4,
 "nbformat_minor": 2
}
